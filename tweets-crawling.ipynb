{
 "cells": [
  {
   "cell_type": "code",
   "execution_count": null,
   "id": "b35aed4e",
   "metadata": {},
   "outputs": [],
   "source": []
  },
  {
   "cell_type": "code",
   "execution_count": 1,
   "id": "a366f2a3-5d5b-4f4c-8639-52f4daeff2de",
   "metadata": {},
   "outputs": [
    {
     "name": "stderr",
     "output_type": "stream",
     "text": [
      "'npx' is not recognized as an internal or external command,\n",
      "operable program or batch file.\n"
     ]
    }
   ],
   "source": [
    "file = 'kurikulum-merdeka.csv'\n",
    "search_keyword = 'Kurikulum Merdeka'\n",
    "limit = 500\n",
    "\n",
    "!npx --yes tweet-harvest -o \"{file}\" -s \"{search_keyword}\" -l \"{limit}\" --token \"dc26345809ddd40b51f81f008127d21a221a3874\""
   ]
  },
  {
   "cell_type": "code",
   "execution_count": 49,
   "id": "07bd2064-dc2b-4311-b6d0-31b6d1f7d76f",
   "metadata": {},
   "outputs": [],
   "source": [
    "import pandas as pd\n",
    "\n",
    "raw_data = pd.read_csv('tweets-data/kurikulum-merdeka.csv')\n",
    "raw_data\n",
    "\n",
    "df = raw_data[['full_text']]\n",
    "df.to_csv('tweets-kurikulum-merdeka.csv')"
   ]
  },
  {
   "cell_type": "code",
   "execution_count": null,
   "id": "b76e7f24-0a83-4e50-a248-10a67d87c085",
   "metadata": {},
   "outputs": [],
   "source": []
  }
 ],
 "metadata": {
  "kernelspec": {
   "display_name": "Python 3 (ipykernel)",
   "language": "python",
   "name": "python3"
  },
  "language_info": {
   "codemirror_mode": {
    "name": "ipython",
    "version": 3
   },
   "file_extension": ".py",
   "mimetype": "text/x-python",
   "name": "python",
   "nbconvert_exporter": "python",
   "pygments_lexer": "ipython3",
   "version": "3.11.7"
  }
 },
 "nbformat": 4,
 "nbformat_minor": 5
}
