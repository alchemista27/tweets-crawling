file = 'kurikulum-merdeka.csv'
search_keyword = 'Kurikulum Merdeka'
limit = 500

!npx --yes tweet-harvest@0.0.35 -o "{file}" -s "{search_keyword}" -l "{limit}" --token "25fa9605d24cb3db2d4de69111e9a8425e6b14d2"


import pandas as pd

raw_data = pd.read_csv('tweets-data/kurikulum-merdeka.csv')
raw_data

df = raw_data[['full_text']]
df.to_csv('tweets-kurikulum-merdeka.csv')



